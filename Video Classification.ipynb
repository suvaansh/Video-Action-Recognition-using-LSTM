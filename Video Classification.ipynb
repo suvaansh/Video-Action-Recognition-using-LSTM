{
 "cells": [
  {
   "cell_type": "code",
   "execution_count": null,
   "metadata": {},
   "outputs": [],
   "source": [
    "import tensorflow as tf\n",
    "import numpy as np\n",
    "import os"
   ]
  },
  {
   "cell_type": "code",
   "execution_count": null,
   "metadata": {},
   "outputs": [],
   "source": [
    "def load_data(data_dir,kind):\n",
    "    \"\"\"\n",
    "    kind -  ANN / LSTM\n",
    "    \"\"\"\n",
    "    data = np.load(os.path.join(data_dir, \"%s.npz\"%kind))\n",
    "    train_x, train_y = data[\"train_x\"], data[\"train_y\"]\n",
    "    val_x, val_y = data[\"val_x\"], data[\"val_y\"]\n",
    "    return train_x, train_y, val_x, val_y"
   ]
  },
  {
   "cell_type": "code",
   "execution_count": null,
   "metadata": {},
   "outputs": [],
   "source": [
    "def batch_create(i, x_train, y_train, batch_size):\n",
    "    x_batch = x_train[(i*batch_size) : ((i+1)*(batch_size))]\n",
    "    y_batch = y_train[(i*batch_size) : ((i+1)*(batch_size))]\n",
    "    return x_batch, y_batch"
   ]
  },
  {
   "cell_type": "code",
   "execution_count": null,
   "metadata": {},
   "outputs": [],
   "source": [
    "train_x, train_y, val_x, val_y = load_data(\"/Data/Task_1\", \"LSTM\")"
   ]
  },
  {
   "cell_type": "code",
   "execution_count": null,
   "metadata": {},
   "outputs": [],
   "source": [
    "print train_x.shape"
   ]
  },
  {
   "cell_type": "code",
   "execution_count": null,
   "metadata": {},
   "outputs": [],
   "source": [
    "x = tf.placeholder(tf.float32, shape=[None, 50, 2048])\n",
    "y_ = tf.placeholder(tf.float32, shape=[None, 5])\n",
    "\n",
    "batch_size = 49"
   ]
  },
  {
   "cell_type": "code",
   "execution_count": null,
   "metadata": {},
   "outputs": [],
   "source": [
    "rnn_cell = tf.nn.rnn_cell.BasicLSTMCell(128)\n",
    "outputs, state = tf.nn.dynamic_rnn(rnn_cell, x, dtype=tf.float32)\n",
    "del state"
   ]
  },
  {
   "cell_type": "code",
   "execution_count": null,
   "metadata": {},
   "outputs": [],
   "source": [
    "outputs.shape"
   ]
  },
  {
   "cell_type": "code",
   "execution_count": null,
   "metadata": {},
   "outputs": [],
   "source": [
    "flatten_out = tf.reshape(outputs,[-1, 50*128])"
   ]
  },
  {
   "cell_type": "code",
   "execution_count": null,
   "metadata": {},
   "outputs": [],
   "source": [
    "W1 = tf.get_variable(\"W1\", shape=[50*128,128], initializer=tf.contrib.layers.xavier_initializer())\n",
    "b1 = tf.Variable(tf.zeros([128]))"
   ]
  },
  {
   "cell_type": "code",
   "execution_count": null,
   "metadata": {},
   "outputs": [],
   "source": [
    "W2 = tf.get_variable(\"W2\", shape=[128,5], initializer=tf.contrib.layers.xavier_initializer())\n",
    "b2 = tf.Variable(tf.zeros([5]))"
   ]
  },
  {
   "cell_type": "code",
   "execution_count": null,
   "metadata": {},
   "outputs": [],
   "source": [
    "z1 = tf.matmul(flatten_out,W1) + b1\n",
    "a1 = tf.nn.relu(z1, name=None)\n",
    "y = tf.matmul(a1,W2) + b2"
   ]
  },
  {
   "cell_type": "code",
   "execution_count": null,
   "metadata": {},
   "outputs": [],
   "source": [
    "cross_entropy = tf.reduce_mean(\n",
    "    tf.nn.softmax_cross_entropy_with_logits(labels=y_, logits=y))"
   ]
  },
  {
   "cell_type": "code",
   "execution_count": null,
   "metadata": {},
   "outputs": [],
   "source": [
    "train_step = tf.train.AdamOptimizer(learning_rate = 1e-4).minimize(cross_entropy)"
   ]
  },
  {
   "cell_type": "code",
   "execution_count": null,
   "metadata": {},
   "outputs": [],
   "source": [
    "batch_size = 49\n",
    "num_batch = np.size(train_x,0) / batch_size\n",
    "print num_batch\n",
    "alpha = tf.Variable(0.01)"
   ]
  },
  {
   "cell_type": "code",
   "execution_count": null,
   "metadata": {},
   "outputs": [],
   "source": [
    "correct_prediction = tf.equal(tf.argmax(y,1), tf.argmax(y_,1))\n",
    "accuracy = tf.reduce_mean(tf.cast(correct_prediction, tf.float32))"
   ]
  },
  {
   "cell_type": "code",
   "execution_count": null,
   "metadata": {},
   "outputs": [],
   "source": [
    "with tf.Session() as sess:\n",
    "    sess.run(tf.global_variables_initializer())\n",
    "    for epochs in range(20):\n",
    "        for iteration in range(num_batch):\n",
    "            x_batch , y_batch = batch_create(iteration, train_x, train_y, batch_size)\n",
    "            train_step.run(feed_dict={x: x_batch, y_: y_batch})        \n",
    "        print(\"train_accuracy = %f \" %(accuracy.eval(feed_dict={x: train_x, y_: train_y})))\n",
    "        print(\"val_accuracy = %f\" %(accuracy.eval(feed_dict={x: val_x, y_: val_y})))"
   ]
  },
  {
   "cell_type": "code",
   "execution_count": null,
   "metadata": {},
   "outputs": [],
   "source": []
  }
 ],
 "metadata": {
  "kernelspec": {
   "display_name": "Python 2",
   "language": "python",
   "name": "python2"
  },
  "language_info": {
   "codemirror_mode": {
    "name": "ipython",
    "version": 2
   },
   "file_extension": ".py",
   "mimetype": "text/x-python",
   "name": "python",
   "nbconvert_exporter": "python",
   "pygments_lexer": "ipython2",
   "version": "2.7.14"
  }
 },
 "nbformat": 4,
 "nbformat_minor": 2
}
